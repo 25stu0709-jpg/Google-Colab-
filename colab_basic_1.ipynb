{
  "nbformat": 4,
  "nbformat_minor": 0,
  "metadata": {
    "colab": {
      "provenance": [],
      "gpuType": "T4",
      "authorship_tag": "ABX9TyPLtepIVolV4hLkupu14oZo",
      "include_colab_link": true
    },
    "kernelspec": {
      "name": "python3",
      "display_name": "Python 3"
    },
    "language_info": {
      "name": "python"
    },
    "accelerator": "GPU"
  },
  "cells": [
    {
      "cell_type": "markdown",
      "metadata": {
        "id": "view-in-github",
        "colab_type": "text"
      },
      "source": [
        "<a href=\"https://colab.research.google.com/github/25stu0709-jpg/Google-Colab-/blob/main/colab_basic_1.ipynb\" target=\"_parent\"><img src=\"https://colab.research.google.com/assets/colab-badge.svg\" alt=\"Open In Colab\"/></a>"
      ]
    },
    {
      "cell_type": "markdown",
      "source": [
        "python 성적표1\n",
        "\n"
      ],
      "metadata": {
        "id": "zV1I0l-Wj1Cd"
      }
    },
    {
      "cell_type": "code",
      "execution_count": 3,
      "metadata": {
        "colab": {
          "base_uri": "https://localhost:8080/"
        },
        "id": "y0C_CS3Gigy_",
        "outputId": "1e5f8bdf-db02-42b2-fde1-39c97de6e356"
      },
      "outputs": [
        {
          "output_type": "stream",
          "name": "stdout",
          "text": [
            "학생 1 정보 입력\n",
            "이름: park\n",
            "국어 성적: 87\n",
            "수학 성적: 98\n",
            "과학 성적: 87\n",
            "\n",
            "학생 2 정보 입력\n",
            "이름: moon\n",
            "국어 성적: 85\n",
            "수학 성적: 90\n",
            "과학 성적: 90\n",
            "\n",
            "학생 3 정보 입력\n",
            "이름: kim\n",
            "국어 성적: 87\n",
            "수학 성적: 98\n",
            "과학 성적: 67\n",
            "\n",
            "학생 4 정보 입력\n",
            "이름: lee\n",
            "국어 성적: 98\n",
            "수학 성적: 87\n",
            "과학 성적: 98\n",
            "\n",
            "학생 5 정보 입력\n",
            "이름: shin\n",
            "국어 성적: 87\n",
            "수학 성적: 100\n",
            "과학 성적: 98\n",
            "\n",
            "\n",
            "학생별 성적 및 평균\n",
            "------------------------------\n",
            "park - 국어: 87, 수학: 98, 과학: 87, 합계: 272, 평균: 90.67\n",
            "moon - 국어: 85, 수학: 90, 과학: 90, 합계: 265, 평균: 88.33\n",
            "kim - 국어: 87, 수학: 98, 과학: 67, 합계: 252, 평균: 84.00\n",
            "lee - 국어: 98, 수학: 87, 과학: 98, 합계: 283, 평균: 94.33\n",
            "shin - 국어: 87, 수학: 100, 과학: 98, 합계: 285, 평균: 95.00\n",
            "\n",
            "과목별 전체 평균\n",
            "------------------------------\n",
            "국어 평균: 88.80\n",
            "수학 평균: 94.60\n",
            "과학 평균: 88.00\n"
          ]
        }
      ],
      "source": [
        "# 학생 정보 입력 받기\n",
        "students = []\n",
        "\n",
        "for i in range(5):\n",
        "    print(f\"학생 {i+1} 정보 입력\")\n",
        "    name = input(\"이름: \")\n",
        "    kor = int(input(\"국어 성적: \"))\n",
        "    math = int(input(\"수학 성적: \"))\n",
        "    sci = int(input(\"과학 성적: \"))\n",
        "    students.append({\n",
        "        \"이름\": name,\n",
        "        \"국어\": kor,\n",
        "        \"수학\": math,\n",
        "        \"과학\": sci\n",
        "    })\n",
        "    print()\n",
        "\n",
        "# 학생별 합계 및 평균 계산\n",
        "for student in students:\n",
        "    total = student[\"국어\"] + student[\"수학\"] + student[\"과학\"]\n",
        "    avg = total / 3\n",
        "    student[\"합계\"] = total\n",
        "    student[\"평균\"] = avg\n",
        "\n",
        "# 과목별 전체 평균 계산\n",
        "kor_avg = sum(s[\"국어\"] for s in students) / len(students)\n",
        "math_avg = sum(s[\"수학\"] for s in students) / len(students)\n",
        "sci_avg = sum(s[\"과학\"] for s in students) / len(students)\n",
        "\n",
        "# 결과 출력\n",
        "print(\"\\n학생별 성적 및 평균\")\n",
        "print(\"-\" * 30)\n",
        "for s in students:\n",
        "    print(f\"{s['이름']} - 국어: {s['국어']}, 수학: {s['수학']}, 과학: {s['과학']}, 합계: {s['합계']}, 평균: {s['평균']:.2f}\")\n",
        "\n",
        "print(\"\\n과목별 전체 평균\")\n",
        "print(\"-\" * 30)\n",
        "print(f\"국어 평균: {kor_avg:.2f}\")\n",
        "print(f\"수학 평균: {math_avg:.2f}\")\n",
        "print(f\"과학 평균: {sci_avg:.2f}\")\n"
      ]
    }
  ]
}